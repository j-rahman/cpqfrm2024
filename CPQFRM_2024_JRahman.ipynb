{
 "cells": [
  {
   "cell_type": "markdown",
   "id": "28d62b05-6dc2-459c-b822-5cf7bc965828",
   "metadata": {},
   "source": [
    "# Certificate Program in Quantitative Finance and Risk Management - IIQF\n",
    "## CAPSTONE PROJECT 2024\n",
    "### Author: Jillur Rahman"
   ]
  },
  {
   "cell_type": "markdown",
   "id": "698a366f-236c-45ed-bdae-276c0ee1053a",
   "metadata": {},
   "source": [
    "#### LICENSE\n",
    "\n",
    "> *This work is licensed under **CC BY-NC 4.0**, which means you can copy, modify and share this code as long as you give proper attribution and use it only for non-commercial purposes.*\n",
    ">\n",
    "> *Grab the full license here: https://creativecommons.org/licenses/by-nc/4.0/.*"
   ]
  },
  {
   "cell_type": "code",
   "execution_count": 1,
   "id": "855b8872-c22a-4830-88b0-20f7952abbf3",
   "metadata": {},
   "outputs": [],
   "source": [
    "# Import all the necessary libraries\n",
    "import numpy as np\n",
    "import datetime as dt\n",
    "import yfinance as yf\n",
    "import nsepython as ns\n",
    "import matplotlib.pyplot as plt\n",
    "from scipy.stats import norm\n",
    "from scipy.optimize import curve_fit"
   ]
  },
  {
   "cell_type": "markdown",
   "id": "b5670ac3-d999-4217-9736-8141257f5ff0",
   "metadata": {},
   "source": [
    "## 1-2. Value at Risk"
   ]
  },
  {
   "cell_type": "markdown",
   "id": "b5557710-3dd3-48a3-b61e-eba1c6b6ccfd",
   "metadata": {},
   "source": [
    "### 1. Parametric Value at Risk\n",
    "\n",
    "Let $r_A(t)$ represent the individual daily percent returns of every symbol $A$ from a set of tickers on any given day $t$. We use the adjusted daily closing prices to compute this quantity.\n",
    "\n",
    "A portfolio $\\Pi$ is defined by a set of weights $\\vec{w}=\\{w_A\\}$. For each $t$, the portfolio return is\n",
    "\n",
    "$$R_\\Pi(t) = \\sum_{A} w_A r_A(t)\\,.$$\n",
    "\n",
    "The daily portfolio volatility is given by \n",
    "\n",
    "$$s_\\Pi(t) = \\sqrt{\\sum_{A,B} w_A w_B S_{AB}(t)} = \\sqrt{{\\vec{w}}^T S(t) \\vec{w}}$$\n",
    "\n",
    "where $S(t)$ is the daily covariance matrix, which is assumed to be constant over the entire time range and estimated by time-averaging over the entire time-series data that we have.\n",
    "\n",
    "Assuming that the portfolio returns are normally distributed with a mean close to zero (which is agreeable only over a small time horizon, otherwise drift corrections must be taken into account), the Value at Risk (VaR) over a period $t$ is estimated with a confidence level $c$ as follows.\n",
    "\n",
    "$$ \\mathrm{VaR}(c,t) = Z_c\\, s_\\Pi\\, \\sqrt{t}\\, \\times \\Pi(t)$$\n",
    "\n",
    "where $Z_c$ is the Z-value corresponding to the confidence level $c$ (e.g. for $c=99$%, $Z_c \\simeq 2.33$), and $\\Pi(t)$ is the total value of the portfolio.\n",
    "\n",
    "For longer time sclaes, there might be a non-zero drift $\\mu_\\Pi$, and a correction must be added.\n",
    "\n",
    "$$ \\boxed{\\mathrm{VaR}(c,t) = \\left( \\mu_\\Pi\\, t + Z_c\\, s_\\Pi\\, \\sqrt{t} \\right) \\times \\Pi(t)}\\,. $$\n",
    "\n",
    "### 2. Historical Value at Risk\n",
    "\n",
    "The historical VaR at confidence level $c$ is simply the $(1-c)^{\\text{th}}$ percentile of the entire historical data at hand."
   ]
  },
  {
   "cell_type": "code",
   "execution_count": 2,
   "id": "926ba53f-975f-4ae5-b1f8-76356c8557e0",
   "metadata": {},
   "outputs": [],
   "source": [
    "# Function to fetch data from Yahoo Finance\n",
    "def fetch_pct_returns(tickers, start_date, end_date):\n",
    "    data = yf.download(tickers, start=start_date, end=end_date, progress=False)['Adj Close']\n",
    "    return data.pct_change().dropna()\n",
    "\n",
    "# Function to calculate VaR (in percentage of portfolio value)\n",
    "def calc_VaR(tickers, weights, start_date, end_date, confidence=0.99, time=1):\n",
    "    returns   = fetch_pct_returns(tickers, start_date, end_date)\n",
    "    portf_cov = returns.cov()\n",
    "    portf_ret = returns @ weights\n",
    "    drift     = portf_ret.mean() * time\n",
    "    portf_vol = np.sqrt( weights @ portf_cov @ weights ) * np.sqrt(time)\n",
    "    z_score   = norm.ppf(confidence)\n",
    "    \n",
    "    historical_VaR = -np.percentile(portf_ret, (1-confidence)*100)\n",
    "    parametric_VaR = (drift + z_score * portf_vol)\n",
    "    \n",
    "    return historical_VaR, parametric_VaR"
   ]
  },
  {
   "cell_type": "code",
   "execution_count": 3,
   "id": "109f37b8-75be-4342-a350-122dc4081f6c",
   "metadata": {},
   "outputs": [],
   "source": [
    "# Portfolio setup\n",
    "tickers = ['DLF.NS', 'NTPC.NS', 'HDFCBANK.NS']  # Yahoo Finance symbols for DLF, NTPC, HDFC Bank\n",
    "weights = [0.4, 0.2, 0.4]                       # Portfolio weights\n",
    "end_date = '2019-10-01'                         # Up to 1st Oct 2019\n",
    "start_date = (dt.datetime.strptime(end_date, '%Y-%m-%d') - dt.timedelta(days=500)).strftime('%Y-%m-%d')\n",
    "confidence_level = 0.99                         # 99% VaR confidence level\n",
    "time_horizon = 1                                # Units of time"
   ]
  },
  {
   "cell_type": "code",
   "execution_count": 4,
   "id": "4e6e2b3e-d8d4-485b-b83f-ad6f6c801bb5",
   "metadata": {},
   "outputs": [
    {
     "name": "stdout",
     "output_type": "stream",
     "text": [
      "Parametric VaR (with 99% confidence) over 1 day: 3.51% of initial investment.\n",
      "Historical VaR (with 99% confidence) over 1 day: 3.57% of initial investment.\n"
     ]
    }
   ],
   "source": [
    "# Calculate the Value at Risk\n",
    "histVaR, paramVaR = calc_VaR(tickers, weights, start_date, end_date, confidence_level, time_horizon);\n",
    "\n",
    "print(f\"Parametric VaR (with {confidence_level*100:.0f}% confidence) over {time_horizon} day: {paramVaR*100:.2f}% of initial investment.\")\n",
    "print(f\"Historical VaR (with {confidence_level*100:.0f}% confidence) over {time_horizon} day: {histVaR*100:.2f}% of initial investment.\")"
   ]
  },
  {
   "cell_type": "markdown",
   "id": "6df2feb6-97d0-449a-a07e-4eb9c89e2901",
   "metadata": {},
   "source": [
    "## 3. European Option Valuation - Monte Carlo Simulation"
   ]
  },
  {
   "cell_type": "markdown",
   "id": "4f26f185-a33c-469b-a3ef-d353c9916ac1",
   "metadata": {},
   "source": [
    "The price of an option is the **expected value of its payoff under risk-neutral probabilities**. We simulate thousands (or millions) of future asset price paths using random sampling (stochastic simulations) and then calculate the average payoff of the option at expiry.\n",
    "\n",
    "The price $S(t)$ at any future time $t$ is modelled by the stochastic differential equation (SDE)\n",
    "\n",
    "$$ dS = \\mu\\, S\\, dt + \\sigma\\, S\\, dW $$\n",
    "\n",
    "where $\\mu$ is the drift, $\\sigma$ is the volatility and $dW$ is the Wiener process (Brownian motion). In a risk-neutral setting, $\\mu$ is replaced by the risk-free rate $r$. The evolution equation then turns out to be:\n",
    "\n",
    "$$ S(t+\\delta t) = S(t)\\, e^{ \\left( r - \\frac{\\sigma^2}2 \\right) \\delta t + \\sigma \\sqrt{\\delta t}\\, Z } $$\n",
    "\n",
    "where $Z$ is a random variable from a standard normal distribution $\\mathcal N(0,1)$.\n",
    "\n",
    "Here are the steps we would take to price an European option.\n",
    "\n",
    "- **Step 1.** We will simulate many price paths for the option (on Nifty) at the expiry date $T$ (in this case, one month from now). We do this by generating random values for $Z$ from a normal distribution.\n",
    "\n",
    "- **Step 2.** We will calculate the payoff. For a European call option, the payoff at expiry $T$ is $\\max(S(T)-K, 0)$, where $S(T)$ is the simulated price of the option at expiry and $K$ is the strike price. For a European put option, the payoff is $\\max(K-S(T),0)$.\n",
    "\n",
    "- **Step 3.** The price of the option is the expected value of the discounted payoffs:\n",
    "$$ \\text{Option Price} = e^{-rT} \\langle\\, \\text{Payoff}\\, \\rangle $$\n",
    "where $\\langle \\cdot \\rangle$ indicates an average over all simulations, and $r$ is the risk-free interest rate."
   ]
  },
  {
   "cell_type": "code",
   "execution_count": 5,
   "id": "f160cd55-f45d-418d-886e-ba27b69fa478",
   "metadata": {},
   "outputs": [],
   "source": [
    "# Function to grab a call and put option from the National Stock Exchange of India\n",
    "def fetch_NSE_option_expiring_in_a_month(symbol):\n",
    "    NSE_optionchain    = ns.nse_optionchain_scrapper(symbol)\n",
    "\n",
    "    # Find the options with the appropriate expiry date\n",
    "    available_expiries = ns.expiry_list(symbol)\n",
    "    today              = dt.date.today()\n",
    "    one_month_later    = today + dt.timedelta(days=30)\n",
    "    expiry_date        = min(available_expiries, key=lambda date: \n",
    "                             abs(dt.datetime.strptime(date, \"%d-%b-%Y\").date() - one_month_later))\n",
    "    options            = [ option for option in NSE_optionchain['records']['data'] \n",
    "                           if option['expiryDate'] == expiry_date ]\n",
    "\n",
    "    # Pick a put and call option with the same strike\n",
    "    chosen_one = None\n",
    "    for option in options:\n",
    "        if 'CE' in option and 'PE' in option:\n",
    "            if option['CE']['lastPrice'] !=0 and option['PE']['lastPrice'] !=0 and \\\n",
    "               option['CE']['impliedVolatility'] !=0 and option['PE']['impliedVolatility'] !=0:\n",
    "                chosen_one = option\n",
    "                break\n",
    "\n",
    "    return chosen_one\n",
    "\n",
    "# Monte-Carlo simulation of option price based on a stochastic evolution of the underlying price\n",
    "def simulateOptionPrice(spot, strike, maturity, vol, riskFreeRate, num_sims, num_steps=500, optType='put'):\n",
    "    # Check if the correct type has been specified\n",
    "    if optType not in ['put', 'call']:\n",
    "        raise ValueError(f\"Invalid optType: {optType}. Must be 'put' or 'call'.\")\n",
    "\n",
    "    # No need to simulate randomness if volatility is zero (deterministic evolution)\n",
    "    if vol==0:\n",
    "        present_val_of_strike = np.exp(-riskFreeRate*maturity) * strike\n",
    "        intrinsic_value = (present_val_of_strike - spot) if optType=='put' else (spot - present_val_of_strike)\n",
    "        return np.maximum(intrinsic_value, 0)\n",
    "        \n",
    "    # Set up the stochastic evolution\n",
    "    time_step    = maturity / num_steps                                 # Step size\n",
    "    random_kicks = np.random.normal(0,1,(num_sims,num_steps))           # Normally distributed random numbers\n",
    "    coeffs       = np.exp( (riskFreeRate-vol**2/2)*time_step            # Evolution operator\n",
    "                          + vol*np.sqrt(time_step)*random_kicks )\n",
    "    S_paths      = np.zeros((num_sims, num_steps))                      # Allocate space for the ensemble of paths\n",
    "    S_paths[:,0] = spot                                                 # Initial condition\n",
    "    \n",
    "    # Run the evolution equation to get all the price paths\n",
    "    for t in range(1, num_steps):\n",
    "        S_paths[:,t] = S_paths[:,t-1] * coeffs[:,t]\n",
    "\n",
    "    # Compute the payoff and discount it to the present\n",
    "    intrinsic_value_on_maturity = (strike - S_paths[:,-1]) if optType=='put' else (S_paths[:,-1] - strike)\n",
    "    payoff = np.maximum(intrinsic_value_on_maturity, 0).mean()\n",
    "    price  = np.exp(-riskFreeRate*maturity) * payoff\n",
    "    \n",
    "    return price\n",
    "\n",
    "# Function to compare prices and decide whether to buy/sell\n",
    "def compare(simulated_price, market_price):\n",
    "    if simulated_price > market_price:\n",
    "        print(\"Option is undervalued. Consider buying.\")\n",
    "    elif simulated_price < market_price:\n",
    "        print(\"Option is overvalued. Consider selling.\")\n",
    "    else:\n",
    "        print(\"Option is fairly valued.\")"
   ]
  },
  {
   "cell_type": "code",
   "execution_count": 6,
   "id": "e37cf1fc-1268-49a2-8e3f-22983b825ad3",
   "metadata": {},
   "outputs": [],
   "source": [
    "# Choose your favorite underlying and fetch calls and puts\n",
    "symbol = 'NIFTY'\n",
    "nifty  = fetch_NSE_option_expiring_in_a_month(symbol)"
   ]
  },
  {
   "cell_type": "code",
   "execution_count": 7,
   "id": "5b06962f-c915-4222-83af-6f38e06a99e8",
   "metadata": {},
   "outputs": [
    {
     "name": "stdout",
     "output_type": "stream",
     "text": [
      "Spot price     = 25810.85 INR.\n",
      "Strike price   = 22250.00 INR.\n",
      "Time to expiry = 0.08 years.\n",
      "Put impl. vol. = 26.06%.\n",
      "Call impl. vol.= 36.33%.\n",
      "Risk-free rate = 6.75% p.a.\n"
     ]
    }
   ],
   "source": [
    "# Set up the simulation parameters\n",
    "K    = nifty['strikePrice']                 # Strike Price\n",
    "S    = nifty['PE']['underlyingValue']       # Spot Price (today)\n",
    "sPut = nifty['PE']['impliedVolatility']/100 # Impl. Vol. of PUT\n",
    "sCal = nifty['CE']['impliedVolatility']/100 # Impl. Vol. of CALL\n",
    "T    = nifty['expiryDate']                  # Time to expiry (in years)\n",
    "T    = (dt.datetime.strptime(T, '%d-%b-%Y').date() - dt.date.today()).days / 365\n",
    "r    = 0.0675                               # Risk-free rate of return (p.a.) from India 10-Year Bond\n",
    "Nsims  = 100000                             # Number of price paths simulated\n",
    "Nsteps = 500                                # Number of steps to reach expiry\n",
    "\n",
    "# Print the values for diagnostic information\n",
    "print(f\"Spot price     = {S:>8.2f} INR.\")\n",
    "print(f\"Strike price   = {K:>8.2f} INR.\")\n",
    "print(f\"Time to expiry = {T:.2f} years.\")\n",
    "print(f\"Put impl. vol. = {sPut*100}%.\")\n",
    "print(f\"Call impl. vol.= {sCal*100}%.\")\n",
    "print(f\"Risk-free rate = {r*100}% p.a.\")"
   ]
  },
  {
   "cell_type": "code",
   "execution_count": 8,
   "id": "c146f2b2-70ff-47bf-a9f1-44f390c250ea",
   "metadata": {},
   "outputs": [],
   "source": [
    "# Run the Monte Carlo sims to estimate the price of the options\n",
    "sim_price_put  = simulateOptionPrice( spot=S,\n",
    "                                      strike=K,\n",
    "                                      maturity=T,\n",
    "                                      vol=sPut,\n",
    "                                      riskFreeRate=r,\n",
    "                                      num_sims=Nsims,\n",
    "                                      optType='put' )\n",
    "sim_price_call = simulateOptionPrice( spot=S,\n",
    "                                      strike=K,\n",
    "                                      maturity=T,\n",
    "                                      vol=sCal,\n",
    "                                      riskFreeRate=r,\n",
    "                                      num_sims=Nsims,\n",
    "                                      optType='call' )\n",
    "mkt_price_put  = nifty['PE']['lastPrice']\n",
    "mkt_price_call = nifty['CE']['lastPrice']"
   ]
  },
  {
   "cell_type": "code",
   "execution_count": 9,
   "id": "ebb29a4d-28b5-4609-a0e0-610e171dbf3b",
   "metadata": {},
   "outputs": [
    {
     "name": "stdout",
     "output_type": "stream",
     "text": [
      "Simulated price of put  =   12.86 INR.\n",
      "Market price of put     =   12.85 INR.\n",
      "Simulated price of call = 3759.02 INR.\n",
      "Market price of call    = 3826.00 INR.\n"
     ]
    }
   ],
   "source": [
    "# Print the results\n",
    "print(f\"Simulated price of put  = {sim_price_put:>7.2f} INR.\")\n",
    "print(f\"Market price of put     = {mkt_price_put:>7.2f} INR.\")\n",
    "print(f\"Simulated price of call = {sim_price_call:>7.2f} INR.\")\n",
    "print(f\"Market price of call    = {mkt_price_call:>7.2f} INR.\")"
   ]
  },
  {
   "cell_type": "code",
   "execution_count": 10,
   "id": "ed89c3f1-5245-4682-a008-735f55688a29",
   "metadata": {},
   "outputs": [
    {
     "name": "stdout",
     "output_type": "stream",
     "text": [
      "Comparing the prices of the PUT...\n",
      "Option is undervalued. Consider buying.\n",
      "\n",
      "Comparing the prices of the CALL...\n",
      "Option is overvalued. Consider selling.\n"
     ]
    }
   ],
   "source": [
    "print(\"Comparing the prices of the PUT...\")\n",
    "compare(sim_price_put, mkt_price_put)\n",
    "print(\"\\nComparing the prices of the CALL...\")\n",
    "compare(sim_price_call, mkt_price_call)"
   ]
  },
  {
   "cell_type": "markdown",
   "id": "3685ff1b-7dc1-4d85-9a35-7c27f9c81da0",
   "metadata": {},
   "source": [
    "## 4. Price Value of A Basis Point for a Putable Bond"
   ]
  },
  {
   "cell_type": "markdown",
   "id": "ac58cc51-3fac-4b17-9d24-d5c93f53bc74",
   "metadata": {},
   "source": [
    "### Valuation of a Putable Bond\n",
    "\n",
    "A putable bond is a bond with an *embedded put* option giving the holder the right but not the obligation to “put” the bond back to the issuer, usually at par, before maturity. Let's assume we are dealing with an European embedded option, meaning that the option has to be exercised, if desired, on a single date of expiry.\n",
    "\n",
    "In the absence of arbitrage, the price of a putable bond, $V_{\\text{putable}}$, is the sum of its parts: namely, the price of the underlying straight bond (the same bond but just without the embedded put), $V_{\\text{straight}}$, plus the price of the isolated put option, $V_{\\text{put}}$.\n",
    "\n",
    "$$ V_{\\text{putable}} = V_{\\text{straight}} + V_{\\text{put}} $$\n",
    "\n",
    "In the absence of credit risk, the value of the straight bond is simply the present value of future cashflows from coupon payments and principal repayment. Assuming annual coupon payments and discounting with annually compounded spot rates, we have\n",
    "\n",
    "$$ V_{\\text{straight}} = \\sum_{t=1}^{T-1} \\frac{C}{(1+r_t)^t} + \\frac{C+F}{(1+r_T)^T}\\,,$$\n",
    "\n",
    "where $C$ is the coupon payment, $F$ is the face (or par) value, $r_t$ is the spot rate at time $t$ (in years), and $T$ is the maturity (in years). Or, in terms of forward rates, this is rewritten as\n",
    "\n",
    "$$ V_{\\text{straight}} = \\sum_{t=1}^{T-1} \\frac{C}{\\Pi_{k=0}^{t-1} (1+F_{k,1})} + \\frac{C+F}{\\Pi_{k=0}^{T-1} (1+F_{k,1})}\\,, $$\n",
    "\n",
    "where $F_{k,1}$ is the “1-year forward rate $k$ years from now.” These are defined using the no-arbitrage principle,\n",
    "\n",
    "$$ (1+r_k)^k\\, (1+F_{k,1}) = (1+r_{k+1})^{k+1}\\,, $$\n",
    "\n",
    "which says that investing for $k$ years at the interest rate $r_k$ and then investing for 1 year at the rate $F_{k,1}$ is exactly equivealent to investing for $k+1$ years at the rate $r_{k}+1$. Solving the above for $F_{k,1}$ is straightforward.\n",
    "\n",
    "Using the forward rates allows us to start in the final year and discount back the cashflows one year at a time until we reach the present value. The additional advantage to this method is that it allows for the tracking of put/call conditions easily, because we are looking at one year at a time. For the putable bond, for example, the discounted value of future cashflows in the exercise year is compared with the face value of the bond and the maximum of the two is chosen. Then we continue with the backwards induction until we reach the present value, which is the required price of the bond.\n",
    "\n",
    "#### Calculation of forward/spot rates\n",
    "\n",
    "If we are given a sequence of par rates (coupon rates of bonds selling at par), $\\{P_1, P_2, \\ldots, P_t\\}$, corresponding to different maturities $t$, then the spot rates $\\{r_1, r_2, \\ldots, r_t\\}$ can be solved for by bootstrapping, that is recursively solving the defining equation of par rates for progressively longer maturities:\n",
    "\n",
    "$$  \\sum_{j=1}^{t-1} \\frac{P_t}{(1+r_j)^j} + \\frac{1 + P_t}{(1+r_t)^t} = 1\\,. $$\n",
    "\n",
    "Alternatively, one could model the spot rates after some real-world interest rate curve. The exercise suggests something along the lines of using LIBOR curves for the past 30 years to do this. However, LIBOR is being phased out at the moment, and unfortunately, many free libraries (e.g. Yahoo Finance) do not directly provide historical LIBOR rates.\n",
    "\n",
    "Instead, we could follow the U.S. 10-year Treasury (`^TNX`) yield, which can be a proxy for interest rates. Having collected a time-series of rates from Yahoo Finance for the maximum amount of time possible, we use this to extrapolate a naive future projection, which is an exponential decay function. It is a toy model, just for illustrative purposes. We can then use these projections as spot rates in the computation of bond prices.\n",
    "\n",
    "### The “Dollar Value” of 0.01% (DV01)\n",
    "\n",
    "It is the amount by which the price of a bond changes in response to a 0.01% or 1 basis point of fluctuation in the spot rates.\n",
    "\n",
    "$$ \\text{DV01} = V_{\\text{putable}}(r_k) - V_{\\text{putable}}(r_k - 0.01\\% r_k)$$"
   ]
  },
  {
   "cell_type": "code",
   "execution_count": 11,
   "id": "7f619a29-068e-4452-8615-6f4fdaf7b50c",
   "metadata": {},
   "outputs": [],
   "source": [
    "# Function to calculate the spot rates as a function of the maturity period\n",
    "def calc_spotRate(year, parRates, savedSpotRates=[None]):\n",
    "    # Check if the year is invalid\n",
    "    if year < 1:\n",
    "        raise ValueError(f\"Invalid year: {year}. Must be at least 1.\")\n",
    "        \n",
    "    # Check if parRates is a sequence of appropriate length\n",
    "    if len(parRates) < year:\n",
    "        raise ValueError(f\"The number of par rates supplied ({len(parRates)} is insufficient.\")\n",
    "    \n",
    "    # Initialise memorisation record\n",
    "    if savedSpotRates is None or len(savedSpotRates)==0:\n",
    "        raise ValueError(\"savedSpotRates must be a non-empty list.\")\n",
    "    elif savedSpotRates[0] != parRates[0]:\n",
    "        savedSpotRates[0] = parRates[0]                 # one-year spot rate = one-year par rate\n",
    "    if len(savedSpotRates) < year:\n",
    "        savedSpotRates.extend([None] * (year-len(savedSpotRates)))\n",
    "\n",
    "    # Answer from memory\n",
    "    if savedSpotRates[year-1] is not None:\n",
    "        return savedSpotRates[year-1]\n",
    "\n",
    "    # Solve for the spot rate recursively\n",
    "    parRate  = parRates[year-1]\n",
    "    discount = sum(1 / (1+calc_spotRate(t, parRates, savedSpotRates))**t for t in range(1, year))\n",
    "    answer   = ( (1+parRate) / (1-parRate*discount) )**(1/year) - 1\n",
    "\n",
    "    # Save the spot rate in the provided dictionary\n",
    "    savedSpotRates[year-1] = answer\n",
    "\n",
    "    return answer\n",
    "\n",
    "# Function to price straight bonds using provided spot rates\n",
    "def price_straightBond_spt(parValue, coupon, maturity, spotRate):\n",
    "    price = sum( coupon / (1+spotRate[t-1])**t for t in range(1, maturity) ) + \\\n",
    "            (coupon+parValue) / (1+spotRate[maturity-1])**maturity\n",
    "    \n",
    "    return price\n",
    "\n",
    "# Function to price straight bonds using forward rates and backwards induction\n",
    "def price_straightBond_fwd(parValue, coupon, maturity, spotRate):\n",
    "    # Calculate 1-year forward rates\n",
    "    fwdRate    = [ (1+spotRate[t])**(t+1) / (1+spotRate[t-1])**t - 1 for t in range(maturity) ]\n",
    "    fwdRate[0] = spotRate[0]\n",
    "\n",
    "    # Start with the final cash flow at T (coupon + face value)\n",
    "    price = coupon + parValue\n",
    "\n",
    "    # Backward induction: discount cash flows one year at a time\n",
    "    for t in range(maturity-1, 0, -1):\n",
    "        price = coupon + (price / (1+fwdRate[t]))\n",
    "\n",
    "    # Finally, discount the first cash flow (coupon at year 1)\n",
    "    price /= (1+fwdRate[0])\n",
    "    \n",
    "    return price\n",
    "\n",
    "# Function to price putable bonds using forward rates and backwards induction\n",
    "def price_embeddedBond(parValue, coupon, maturity, spotRate, exerciseYears, strike=None, optType='put'):\n",
    "    # Check if the correct type has been specified\n",
    "    if optType not in ['put', 'call']:\n",
    "        raise ValueError(f\"Invalid optType: {optType}. Must be 'put' or 'call'.\")\n",
    "    if strike is None:\n",
    "        strike = parValue           # option to redeem at par by default\n",
    "\n",
    "    # Calculate 1-year forward rates\n",
    "    fwdRate    = [ (1+spotRate[t])**(t+1) / (1+spotRate[t-1])**t - 1 for t in range(maturity) ]\n",
    "    fwdRate[0] = spotRate[0]\n",
    "\n",
    "    # Start with the final cash flow at T (coupon + face value)\n",
    "    price = coupon + parValue\n",
    "\n",
    "    # Backward induction: discount cash flows one year at a time\n",
    "    for t in range(maturity-1, 0, -1):\n",
    "        futureValue = price / (1+fwdRate[t])\n",
    "        if t in exerciseYears:\n",
    "            optVal = max(strike, futureValue) if optType=='put' else min(strike, futureValue)\n",
    "            price  = coupon + optVal\n",
    "        else:\n",
    "            price  = coupon + futureValue\n",
    "\n",
    "    # Finally, discount the first cash flow (coupon at year 1)\n",
    "    price /= (1+fwdRate[0])\n",
    "    \n",
    "    return price\n",
    "\n",
    "# Function to calculate the price value of a basis point for a bond with an embedded option\n",
    "def dv01_embeddedBond(parValue, coupon, maturity, spotRates, exerciseYears, optType='put'):\n",
    "    # Shift spot rates down by 1 basis point (0.0001)\n",
    "    shifted_spotRates = [r - 0.0001 for r in spotRates]\n",
    "\n",
    "    # Calculate the difference in bond prices due to the 0.01% shift in spot rates\n",
    "    dv01 =  price_embeddedBond(parValue, coupon, maturity, shifted_spotRates, exerciseYears, optType=optType) \\\n",
    "          - price_embeddedBond(parValue, coupon, maturity, spotRates,         exerciseYears, optType=optType)\n",
    "\n",
    "    return dv01"
   ]
  },
  {
   "cell_type": "code",
   "execution_count": 12,
   "id": "1c081625-f63b-44b3-92bb-c15ca347591c",
   "metadata": {},
   "outputs": [
    {
     "name": "stdout",
     "output_type": "stream",
     "text": [
      "Bond with a Par Value of €100, coupon rate of 4.25%, maturity in 3 years:\n",
      "    Price calculated from spot rates:        \t €102.115.\n",
      "    Price calculated from forward rates:     \t €102.115.\n",
      "    Price of putable at par in [1, 2] years:\t €102.398.\n",
      "    Price of callable at par in [1, 2] years:\t €101.707.\n",
      "    DV01 of putable at par in [1, 2] years:\t €  0.019.\n",
      "    DV01 of callable at par in [1, 2] years:\t €  0.010.\n"
     ]
    }
   ],
   "source": [
    "# Let's take an example bond\n",
    "parValue = 100\n",
    "coupon   = 4.25\n",
    "maturity = 3\n",
    "exrYears = [1, 2]       # Exercise years for the variant with embedded option\n",
    "\n",
    "# We assume that par rates grow linearly year by year for this toy model\n",
    "parRates = [ 0.025 + j*0.005 for j in range(maturity) ]\n",
    "\n",
    "# Let's calculate all the spot rates\n",
    "spotRate = [None]\n",
    "calc_spotRate( year=maturity,\n",
    "               parRates=parRates,\n",
    "               savedSpotRates=spotRate )\n",
    "\n",
    "# Let's calculate the prices\n",
    "price_spot = price_straightBond_spt(parValue, coupon, maturity, spotRate)\n",
    "price_frwd = price_straightBond_fwd(parValue, coupon, maturity, spotRate)\n",
    "price_putl = price_embeddedBond(parValue, coupon, maturity, spotRate, exrYears, optType='put')\n",
    "price_call = price_embeddedBond(parValue, coupon, maturity, spotRate, exrYears, optType='call')\n",
    "DV01_putl  = dv01_embeddedBond(parValue, coupon, maturity, spotRate, exrYears, optType='put')\n",
    "DV01_call  = dv01_embeddedBond(parValue, coupon, maturity, spotRate, exrYears, optType='call')\n",
    "\n",
    "print(f\"Bond with a Par Value of €{parValue}, coupon rate of {coupon}%, maturity in {maturity} years:\")\n",
    "print(f\"    Price calculated from spot rates:        \\t €{price_spot:7.3f}.\")\n",
    "print(f\"    Price calculated from forward rates:     \\t €{price_frwd:7.3f}.\")\n",
    "print(f\"    Price of putable at par in {exrYears} years:\\t €{price_putl:7.3f}.\")\n",
    "print(f\"    Price of callable at par in {exrYears} years:\\t €{price_call:7.3f}.\")\n",
    "print(f\"    DV01 of putable at par in {exrYears} years:\\t €{DV01_putl:7.3f}.\")\n",
    "print(f\"    DV01 of callable at par in {exrYears} years:\\t €{DV01_call:7.3f}.\")"
   ]
  },
  {
   "cell_type": "markdown",
   "id": "08bf86e0-ca46-4df9-8046-9a596b7092bd",
   "metadata": {},
   "source": [
    "**Note:** The putable bond is sold at a *premium* to a bond without optionability since if interest rates are expected to rise, the put option protects the bondholder. Alternatively, callable options are sold at a *discount* since it protects the issuer."
   ]
  },
  {
   "cell_type": "markdown",
   "id": "40c1fece-81a5-4c33-8dc7-7fc7cf6430bb",
   "metadata": {},
   "source": [
    "#### Naive Interest Rate Extrapolation"
   ]
  },
  {
   "cell_type": "code",
   "execution_count": 13,
   "id": "0bce6401-6ce8-4c85-85dd-f0f3e4a06711",
   "metadata": {},
   "outputs": [
    {
     "data": {
      "image/png": "[encoded data removed]",
      "text/plain": [
       "<Figure size 1000x600 with 1 Axes>"
      ]
     },
     "metadata": {},
     "output_type": "display_data"
    }
   ],
   "source": [
    "# Sample the data\n",
    "data_intRates = yf.download('^TNX', period='max', interval='1mo', progress=False)['Adj Close']\\\n",
    "                  .resample('YE').mean()\n",
    "years = np.array([date.year for date in data_intRates.index])\n",
    "rates = data_intRates.values\n",
    "\n",
    "# Try an exponential decay function as a fit\n",
    "def exp_decay(t, a, b, c):\n",
    "    return a * np.exp(b * t) + c\n",
    "\n",
    "# Fit the data\n",
    "years_normalised   = years - years.min()\n",
    "initial_guess      = [4, -0.03, 1]\n",
    "params, covariance = curve_fit(exp_decay, years_normalised, rates, p0=initial_guess)\n",
    "a, b, c            = params\n",
    "\n",
    "# Project future interest rates (next 30 years)\n",
    "future_years = np.array([year for year in range(years[-1] + 1, years[-1] + 31)])\n",
    "future_years_normalised = future_years - years.min()\n",
    "future_rates = exp_decay(future_years_normalised, a, b, c)\n",
    "\n",
    "# Plot the fit\n",
    "plt.figure(figsize=(10, 6))\n",
    "plt.plot(years, rates, label='Historical Rates', color='blue', marker='o')\n",
    "plt.plot(future_years, future_rates, label='Predicted Rates (Exponential Fit)', color='red', marker='x')\n",
    "plt.xlabel('Year')\n",
    "plt.ylabel('10-Year Treasury Yield (%)')\n",
    "plt.title('10-Year Treasury Yield: Historical and Predicted (Exponential Decay Fit)')\n",
    "plt.legend()\n",
    "plt.grid(True)\n",
    "plt.show()"
   ]
  },
  {
   "cell_type": "markdown",
   "id": "ae571233-8f55-4ff7-84d0-079549c33c8a",
   "metadata": {},
   "source": [
    "#### Example bond given in the exercise\n",
    "\n",
    "To be honest, it's not a great example to illustrate the point of putable bonds or their volatility."
   ]
  },
  {
   "cell_type": "code",
   "execution_count": 14,
   "id": "3380be86-f130-474f-bbe1-2aa17fc25692",
   "metadata": {},
   "outputs": [
    {
     "name": "stdout",
     "output_type": "stream",
     "text": [
      "Bond with a Par Value of €1000, coupon rate of 7.65%, maturity in 30 years:\n",
      "    Price of straight bond with same specs: \t €2643.389.\n",
      "    Price of putable at par in [15] years:\t €2643.389.\n",
      "    DV01 of putable at par in [15] years:\t €   4.985.\n"
     ]
    }
   ],
   "source": [
    "# Bond specification\n",
    "parValue = 1000\n",
    "coupon   = 7.65/100 * parValue\n",
    "maturity = 30\n",
    "exrYears = [15]\n",
    "\n",
    "# Let's calculate the prices\n",
    "spotRates      = future_rates/100\n",
    "price_straight = price_straightBond_spt(parValue, coupon, maturity, spotRates)\n",
    "price_putable  = price_embeddedBond(parValue, coupon, maturity, spotRates, exrYears, optType='put')\n",
    "DV01_putable   = dv01_embeddedBond(parValue, coupon, maturity, spotRates, exrYears, optType='put')\n",
    "\n",
    "print(f\"Bond with a Par Value of €{parValue}, coupon rate of {coupon*100/parValue}%, maturity in {maturity} years:\")\n",
    "print(f\"    Price of straight bond with same specs: \\t €{price_straight:7.3f}.\")\n",
    "print(f\"    Price of putable at par in {exrYears} years:\\t €{price_putable:7.3f}.\")\n",
    "print(f\"    DV01 of putable at par in {exrYears} years:\\t €{DV01_putable:8.3f}.\")"
   ]
  },
  {
   "cell_type": "markdown",
   "id": "8ec7fe98-5fc3-430e-9908-adc3655ae2e2",
   "metadata": {},
   "source": [
    "Maximum exposure (DV01) for the puttable bond will likely occur before the 15-year put date, when the bond still behaves like a long-term (30-year) bond, making it more sensitive to interest rate changes."
   ]
  }
 ],
 "metadata": {
  "kernelspec": {
   "display_name": "Python 3 (ipykernel)",
   "language": "python",
   "name": "python3"
  },
  "language_info": {
   "codemirror_mode": {
    "name": "ipython",
    "version": 3
   },
   "file_extension": ".py",
   "mimetype": "text/x-python",
   "name": "python",
   "nbconvert_exporter": "python",
   "pygments_lexer": "ipython3",
   "version": "3.12.5"
  }
 },
 "nbformat": 4,
 "nbformat_minor": 5
}
